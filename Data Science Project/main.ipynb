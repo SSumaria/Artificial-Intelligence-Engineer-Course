{
 "cells": [
  {
   "cell_type": "code",
   "execution_count": null,
   "metadata": {},
   "outputs": [],
   "source": [
    "import pandas as pd\n",
    "import numpy as np\n",
    "import seaborn as sns\n",
    "import matplotlib.pyplot as plt\n"
   ]
  },
  {
   "cell_type": "code",
   "execution_count": null,
   "metadata": {},
   "outputs": [],
   "source": [
    "df = pd.read_csv('AusApparalSales4thQrt2020.csv')\n",
    "df.head()"
   ]
  },
  {
   "cell_type": "markdown",
   "metadata": {},
   "source": [
    "## 1. Data Wrangling"
   ]
  },
  {
   "cell_type": "code",
   "execution_count": null,
   "metadata": {},
   "outputs": [],
   "source": [
    "df.isna().any()"
   ]
  },
  {
   "cell_type": "code",
   "execution_count": null,
   "metadata": {},
   "outputs": [],
   "source": [
    "df.dtypes"
   ]
  },
  {
   "cell_type": "code",
   "execution_count": null,
   "metadata": {},
   "outputs": [],
   "source": [
    "# Convert Date column to datetime to extract Date, Month, Year\n",
    "df['Date'] = pd.to_datetime(df['Date'])\n",
    "df['Day'] = df['Date'].dt.day\n",
    "df['Month'] = df['Date'].dt.month\n",
    "df['Year'] = df['Date'].dt.year\n",
    "df.head()"
   ]
  },
  {
   "cell_type": "code",
   "execution_count": null,
   "metadata": {},
   "outputs": [],
   "source": [
    "df['Unit_Scale'] = [x / df['Unit'].max() for x in df['Unit']]\n",
    "df['Unit_Scale'] = df['Unit_Scale'].round(2)\n",
    "df['Sales_Scale'] = [x / df['Sales'].max() for x in df['Sales']]\n",
    "df['Sales_Scale'] = df['Sales_Scale'].round(2)\n",
    "df.head()"
   ]
  },
  {
   "cell_type": "markdown",
   "metadata": {},
   "source": [
    "## 2. Data Analysis"
   ]
  },
  {
   "cell_type": "code",
   "execution_count": null,
   "metadata": {},
   "outputs": [],
   "source": [
    "# Descriptive Analysis\n",
    "sales_mean = round(df['Sales'].mean(),2)\n",
    "sales_median = df['Sales'].median()\n",
    "sales_mode = df['Sales'].mode()[0]\n",
    "sales_std = round(df['Sales'].std(),4)\n",
    "\n",
    "unit_mean = round(df['Unit'].mean(),2)\n",
    "unit_median = df['Unit'].median()\n",
    "unit_mode = df['Unit'].mode()[0]\n",
    "unit_std = round(df['Unit'].std(),4)\n",
    "\n",
    "print(f'Sales Mean: {sales_mean}',f'\\nUnit Mean: {unit_mean}\\n')\n",
    "print(f'Sales Median: {sales_median}',f'\\nUnit Median: {unit_median}\\n')\n",
    "print(f'Sales Mode: {sales_mode}',f'\\nUnit Mode: {unit_mode}\\n')\n",
    "print(f'Sales Standard Deveation: {sales_std}',f'\\nUnit Standard Deveation: {unit_std}\\n')"
   ]
  },
  {
   "cell_type": "code",
   "execution_count": null,
   "metadata": {},
   "outputs": [],
   "source": [
    "# The group with the highest and lowest sales\n",
    "data_by_group = df.groupby('Group')[['Sales','Unit']].sum().sort_values('Sales', ascending=False)\n",
    "data_by_group['Sales'] = data_by_group['Sales'].apply(lambda x: '{:,.2f}'.format(x))\n",
    "data_by_group['Unit'] = data_by_group['Unit'].apply(lambda x: '{:,.2f}'.format(x))\n",
    "print('Total Sales and Total Units by Group:\\n\\n', data_by_group)"
   ]
  },
  {
   "cell_type": "markdown",
   "metadata": {},
   "source": [
    "##### Men had the highest sales while Seniors had the lowest sales. "
   ]
  },
  {
   "cell_type": "code",
   "execution_count": null,
   "metadata": {},
   "outputs": [],
   "source": [
    "df['Week'] = ['Week 1' if x <= 7 else 'Week 2' if x <= 14 else 'Week 3' if x <= 21 else 'Week 4' for x in df['Day']]\n",
    "df"
   ]
  },
  {
   "cell_type": "code",
   "execution_count": null,
   "metadata": {},
   "outputs": [],
   "source": [
    "df['Quarter'] = ['Q1' if x <= 3 else 'Q2' if x <= 6 else 'Q3' if x <= 9 else 'Q4' for x in df['Month']]\n",
    "df"
   ]
  },
  {
   "cell_type": "markdown",
   "metadata": {},
   "source": [
    "##### Weekly Report"
   ]
  },
  {
   "cell_type": "code",
   "execution_count": null,
   "metadata": {},
   "outputs": [],
   "source": [
    "weekly = pd.DataFrame(df.groupby(['Group','Week','State'])['Sales'].sum()).reset_index()\n",
    "weekly"
   ]
  },
  {
   "cell_type": "code",
   "execution_count": null,
   "metadata": {},
   "outputs": [],
   "source": [
    "w_report_max = weekly.loc[weekly.groupby('Week')['Sales'].idxmax()]\n",
    "w_report_min = weekly.loc[weekly.groupby('Week')['Sales'].idxmin()]\n",
    "\n",
    "print('Group with the max sales per week:\\n\\n', w_report_max ,'\\n')\n",
    "print('Group with the min sales per week:\\n\\n', w_report_min)"
   ]
  },
  {
   "cell_type": "code",
   "execution_count": null,
   "metadata": {},
   "outputs": [],
   "source": [
    "sns.boxplot(data=weekly['Sales'])"
   ]
  },
  {
   "cell_type": "markdown",
   "metadata": {},
   "source": [
    "##### Monthly report"
   ]
  },
  {
   "cell_type": "code",
   "execution_count": null,
   "metadata": {},
   "outputs": [],
   "source": [
    "monthly = pd.DataFrame(df.groupby(['Group','Month','State'])['Sales'].sum()).reset_index()\n",
    "monthly"
   ]
  },
  {
   "cell_type": "code",
   "execution_count": null,
   "metadata": {},
   "outputs": [],
   "source": [
    "m_report_max = monthly.loc[monthly.groupby('Month')['Sales'].idxmax()]\n",
    "m_report_min = monthly.loc[monthly.groupby('Month')['Sales'].idxmin()]\n",
    "\n",
    "print('Group with the max sales per month:\\n\\n', m_report_max ,'\\n')\n",
    "print('Group with the min sales per month:\\n\\n', m_report_min)"
   ]
  },
  {
   "cell_type": "code",
   "execution_count": null,
   "metadata": {},
   "outputs": [],
   "source": [
    "sns.boxplot(data=monthly['Sales'])"
   ]
  },
  {
   "cell_type": "markdown",
   "metadata": {},
   "source": [
    "##### Quarterly Report"
   ]
  },
  {
   "cell_type": "code",
   "execution_count": null,
   "metadata": {},
   "outputs": [],
   "source": [
    "quarterly = pd.DataFrame(df.groupby(['Group','Quarter','State'])['Sales'].sum()).reset_index()\n",
    "quarterly"
   ]
  },
  {
   "cell_type": "code",
   "execution_count": null,
   "metadata": {},
   "outputs": [],
   "source": [
    "q_report_max = quarterly.loc[quarterly.groupby('Quarter')['Sales'].idxmax()]\n",
    "q_report_min = quarterly.loc[quarterly.groupby('Quarter')['Sales'].idxmin()]\n",
    "\n",
    "print('Group with the max sales per quarter:\\n\\n', q_report_max ,'\\n')\n",
    "print('Group with the min sales per quarter:\\n\\n', q_report_min)"
   ]
  },
  {
   "cell_type": "code",
   "execution_count": null,
   "metadata": {},
   "outputs": [],
   "source": [
    "sns.boxplot(data=quarterly['Sales'])"
   ]
  },
  {
   "cell_type": "markdown",
   "metadata": {},
   "source": [
    "## 3. Data visualization"
   ]
  },
  {
   "cell_type": "markdown",
   "metadata": {},
   "source": [
    "#### Daily Reports"
   ]
  },
  {
   "cell_type": "markdown",
   "metadata": {},
   "source": [
    "Daily State-wise sales for each group"
   ]
  },
  {
   "cell_type": "code",
   "execution_count": null,
   "metadata": {},
   "outputs": [],
   "source": [
    "fig, ax1 = plt.subplots(figsize=(14,7))\n",
    "\n",
    "date = input('Input Date:')\n",
    "month = input('Input Month:')\n",
    "year = input('Input Year:')\n",
    "\n",
    "def daily(d, m, y):\n",
    "    data = df[(df['Day'] == int(d)) & (df['Month'] == int(m)) & (df['Year'] == int(y))]\n",
    "    return data\n",
    "\n",
    "daily_data = daily(date, month, year)\n",
    "daily_state_totals = daily_data.groupby(['Group','State'])['Sales'].sum().reset_index()\n",
    "\n",
    "sns.barplot(data=daily_state_totals, x='State', y='Sales', hue='Group')\n",
    "ax1.set_title(f'Sales per State on date: {date}/{month}/{year}')"
   ]
  },
  {
   "cell_type": "markdown",
   "metadata": {},
   "source": [
    "Group-wise sales analysis per State"
   ]
  },
  {
   "cell_type": "code",
   "execution_count": null,
   "metadata": {},
   "outputs": [],
   "source": [
    "fig, ax1 = plt.subplots(figsize=(14,7))\n",
    "\n",
    "sns.barplot(data=daily_state_totals, x='Group', y='Sales', hue='State')\n",
    "ax1.set_title(f'Sales per Group on date: {date}/{month}/{year}')"
   ]
  },
  {
   "cell_type": "markdown",
   "metadata": {},
   "source": [
    "Time Analysis per State"
   ]
  },
  {
   "cell_type": "code",
   "execution_count": null,
   "metadata": {},
   "outputs": [],
   "source": [
    "fig, ax1 = plt.subplots(figsize=(14,7))\n",
    "\n",
    "daily_time_totals = daily_data.groupby(['Time','State'])['Sales'].sum().reset_index()\n",
    "\n",
    "sns.barplot(data=daily_time_totals, x='Time', y='Sales', hue='State')\n",
    "ax1.set_title(f'Time Analysis per State on date: {date}/{month}/{year}')"
   ]
  },
  {
   "cell_type": "markdown",
   "metadata": {},
   "source": [
    "### Weekly Reports"
   ]
  },
  {
   "cell_type": "markdown",
   "metadata": {},
   "source": [
    "Weekly State-wise sales for each group"
   ]
  },
  {
   "cell_type": "code",
   "execution_count": null,
   "metadata": {},
   "outputs": [],
   "source": [
    "fig, ax1 = plt.subplots(figsize=(14,7))\n",
    "\n",
    "week = input('Input week between 1 and 4:')\n",
    "\n",
    "def weekly(w):\n",
    "    if w == '1':\n",
    "        wk = 'Week 1'\n",
    "    elif w == '2':\n",
    "        wk = 'Week 2'\n",
    "    elif w == '3':\n",
    "        wk = 'Week 3'\n",
    "    else:\n",
    "        wk = 'Week 4'\n",
    "    print(wk)\n",
    "    # w = wk\n",
    "    data = df[df['Week'] == wk]\n",
    "    return data\n",
    "\n",
    "weekly_data = weekly(week)\n",
    "weekly_state_totals = weekly_data.groupby(['Group','State'])['Sales'].sum().reset_index()\n",
    "\n",
    "sns.barplot(data=weekly_state_totals, x='State', y='Sales', hue='Group')\n",
    "ax1.set_title(f'Sales per State for Week {week} of each month')"
   ]
  },
  {
   "cell_type": "markdown",
   "metadata": {},
   "source": [
    "Group-wise sales analysis per State"
   ]
  },
  {
   "cell_type": "code",
   "execution_count": null,
   "metadata": {},
   "outputs": [],
   "source": [
    "fig, ax1 = plt.subplots(figsize=(14,7))\n",
    "\n",
    "sns.barplot(data=weekly_state_totals, x='Group', y='Sales', hue='State')\n",
    "ax1.set_title(f'Sales per Group for Week {week} of each month')"
   ]
  },
  {
   "cell_type": "markdown",
   "metadata": {},
   "source": [
    "Time Analysis per State"
   ]
  },
  {
   "cell_type": "code",
   "execution_count": null,
   "metadata": {},
   "outputs": [],
   "source": [
    "fig, ax1 = plt.subplots(figsize=(14,7))\n",
    "\n",
    "weekly_time_totals = weekly_data.groupby(['Time','State'])['Sales'].sum().reset_index()\n",
    "\n",
    "sns.barplot(data=weekly_time_totals, x='Time', y='Sales', hue='State')\n",
    "ax1.set_title(f'Time Analysis per State for Week {week} of each month')"
   ]
  },
  {
   "cell_type": "markdown",
   "metadata": {},
   "source": [
    "### Monthly Reports"
   ]
  },
  {
   "cell_type": "markdown",
   "metadata": {},
   "source": [
    "Monthly State-wise sales for each group"
   ]
  },
  {
   "cell_type": "code",
   "execution_count": null,
   "metadata": {},
   "outputs": [],
   "source": [
    "fig, ax1 = plt.subplots(figsize=(14,7))\n",
    "\n",
    "month = input('Input Month:')\n",
    "\n",
    "def monthly(m):\n",
    "    data = df[df['Month'] == int(m)]\n",
    "    return data\n",
    "\n",
    "monthly_data = monthly(month)\n",
    "monthly_state_totals = monthly_data.groupby(['Group','State'])['Sales'].sum().reset_index().sort_values('Sales')\n",
    "\n",
    "sns.barplot(data=monthly_state_totals, x='State', y='Sales', hue='Group')\n",
    "ax1.set_title(f'Sales per State in month: {month}')"
   ]
  },
  {
   "cell_type": "markdown",
   "metadata": {},
   "source": [
    "Group-wise sales analysis per State"
   ]
  },
  {
   "cell_type": "code",
   "execution_count": null,
   "metadata": {},
   "outputs": [],
   "source": [
    "fig, ax1 = plt.subplots(figsize=(14,7))\n",
    "\n",
    "sns.barplot(data=monthly_state_totals, x='Group', y='Sales', hue='State')\n",
    "ax1.set_title(f'Sales per Group in month: {month}')"
   ]
  },
  {
   "cell_type": "markdown",
   "metadata": {},
   "source": [
    "Time Analysis per State\n"
   ]
  },
  {
   "cell_type": "code",
   "execution_count": null,
   "metadata": {},
   "outputs": [],
   "source": [
    "fig, ax1 = plt.subplots(figsize=(14,7))\n",
    "\n",
    "monthly_time_totals = monthly_data.groupby(['Time','State'])['Sales'].sum().reset_index().sort_values('Sales')\n",
    "\n",
    "sns.barplot(data=monthly_time_totals, x='Time', y='Sales', hue='State')\n",
    "ax1.set_title(f'Time Analysis per State in month: {month}')"
   ]
  }
 ],
 "metadata": {
  "kernelspec": {
   "display_name": "base",
   "language": "python",
   "name": "python3"
  },
  "language_info": {
   "codemirror_mode": {
    "name": "ipython",
    "version": 3
   },
   "file_extension": ".py",
   "mimetype": "text/x-python",
   "name": "python",
   "nbconvert_exporter": "python",
   "pygments_lexer": "ipython3",
   "version": "3.11.7"
  }
 },
 "nbformat": 4,
 "nbformat_minor": 2
}
